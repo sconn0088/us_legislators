{
 "cells": [
  {
   "cell_type": "markdown",
   "metadata": {},
   "source": [
    "# United States Legislators\n",
    "\n",
    "In the following report, we'll examine data on every legislator who has served in the history of the United States. The dataset has been saved in a csv file and contains the following columns of information:\n",
    "\n",
    "last_name: the surname of the legislator\n",
    "\n",
    "first_name: the given name of the legislator\n",
    "\n",
    "birthday: the birthdate of the legislator\n",
    "\n",
    "gender: the gender of the legislator\n",
    "\n",
    "type: whether the legislator served in the Senate or the House of Representatives\n",
    "\n",
    "state: the state the legislator represented\n",
    "\n",
    "party: the party the legislator belonged to"
   ]
  },
  {
   "cell_type": "markdown",
   "metadata": {},
   "source": [
    "The first thing we'll do is open the csv file and read it into Python so that we can use the data."
   ]
  },
  {
   "cell_type": "code",
   "execution_count": 1,
   "metadata": {},
   "outputs": [
    {
     "name": "stdout",
     "output_type": "stream",
     "text": [
      "last_name first_name birthday gender type state party\n",
      "Bassett Richard 1745-04-02 M sen DE Anti-Administration\n",
      "Bland Theodorick 1742-03-21  rep VA \n",
      "Burke Aedanus 1743-06-16  rep SC \n",
      "Carroll Daniel 1730-07-22 M rep MD \n"
     ]
    }
   ],
   "source": [
    "import csv, re\n",
    "f = open(\"legislators.csv\", \"r\")\n",
    "legislators = list(csv.reader(f))\n",
    "for each in legislators[0:5]:\n",
    "    print(*each)"
   ]
  },
  {
   "cell_type": "markdown",
   "metadata": {},
   "source": [
    "Next we'll remove the header row so that we'll manipulate only the data."
   ]
  },
  {
   "cell_type": "code",
   "execution_count": 2,
   "metadata": {},
   "outputs": [
    {
     "name": "stdout",
     "output_type": "stream",
     "text": [
      "Bassett Richard 1745-04-02 M sen DE Anti-Administration\n",
      "Bland Theodorick 1742-03-21  rep VA \n",
      "Burke Aedanus 1743-06-16  rep SC \n",
      "Carroll Daniel 1730-07-22 M rep MD \n",
      "Clymer George 1739-03-16 M rep PA \n"
     ]
    }
   ],
   "source": [
    "legislators = legislators[1:]\n",
    "for each in legislators[0:5]:\n",
    "    print(*each)"
   ]
  },
  {
   "cell_type": "markdown",
   "metadata": {},
   "source": [
    "## Most Popular Name\n",
    "\n",
    "Now that we can easily use the data, let's start to explore it. We'll write code that extrapolates the most popular given name for male legislators and female legislators.\n",
    "\n",
    "First, the male legislators:\n",
    "\n",
    "We'll loop through the rows of the dataset, count how many times a first name appears, and add the names with their counts to a dictionary, but only if the gender is male."
   ]
  },
  {
   "cell_type": "code",
   "execution_count": 3,
   "metadata": {
    "collapsed": true
   },
   "outputs": [],
   "source": [
    "male_names = {}\n",
    "for row in legislators:\n",
    "    if row[3] == \"M\":\n",
    "        name = row[1]\n",
    "        if name in male_names:\n",
    "            male_names[name] += 1\n",
    "        else:\n",
    "            male_names[name] = 1"
   ]
  },
  {
   "cell_type": "markdown",
   "metadata": {},
   "source": [
    "Our dictionary has all the first names and the number  of legislators with that name. The next step is to find out which count is the highest."
   ]
  },
  {
   "cell_type": "code",
   "execution_count": 4,
   "metadata": {
    "collapsed": true
   },
   "outputs": [],
   "source": [
    "highest_male_value = None\n",
    "for name in male_names:\n",
    "    count = male_names[name]\n",
    "    if highest_male_value is None or count > highest_male_value:\n",
    "        highest_male_value = count"
   ]
  },
  {
   "cell_type": "markdown",
   "metadata": {},
   "source": [
    "Finally, we want to add every name with the value of 1233 to a list. When we print this list, we will see which name(s) is the most popular for male legislators."
   ]
  },
  {
   "cell_type": "code",
   "execution_count": 5,
   "metadata": {},
   "outputs": [
    {
     "name": "stdout",
     "output_type": "stream",
     "text": [
      "John\n"
     ]
    }
   ],
   "source": [
    "top_male_names = []\n",
    "for name, counts in male_names.items():\n",
    "    if counts == highest_male_value:\n",
    "        top_male_names.append(name)\n",
    "        \n",
    "print(\"\\n\".join(top_male_names))"
   ]
  },
  {
   "cell_type": "markdown",
   "metadata": {
    "collapsed": true
   },
   "source": [
    "We can use the same logic to find the most popular female names:"
   ]
  },
  {
   "cell_type": "code",
   "execution_count": 6,
   "metadata": {},
   "outputs": [
    {
     "name": "stdout",
     "output_type": "stream",
     "text": [
      "Marilyn\n",
      "Lynn\n",
      "Karen\n",
      "Melissa\n",
      "Nancy\n",
      "Sue\n",
      "Shelley\n",
      "Jo Ann\n",
      "Stephanie\n",
      "Deborah\n",
      "Kathleen\n",
      "Mary\n"
     ]
    }
   ],
   "source": [
    "top_female_names = []\n",
    "female_names = {}\n",
    "for row in legislators:\n",
    "    if row[3] == \"F\":\n",
    "        name = row[1]\n",
    "        if name in female_names:\n",
    "            female_names[name] += 1\n",
    "        else:\n",
    "            female_names[name] = 1\n",
    "\n",
    "highest_female_value = None\n",
    "for name in female_names:\n",
    "    count = female_names[name]\n",
    "    if highest_female_value is None or count > highest_female_value:\n",
    "        highest_female_value = count\n",
    "        \n",
    "for name, counts in female_names.items():\n",
    "    if counts == highest_female_value:\n",
    "        top_female_names.append(name)\n",
    "        \n",
    "print(\"\\n\".join(top_female_names))"
   ]
  },
  {
   "cell_type": "markdown",
   "metadata": {},
   "source": [
    "## Most Popular Zodiac Sign\n",
    "\n",
    "In this portion we will examine birthdays to determine which zodiac sign is the most popular for United States legislators. Here is a rundown on where the dates break:\n",
    "\n",
    "Aries: March 21 - April 19\n",
    "\n",
    "Taurus:April 20 - May 20\n",
    "\n",
    "Gemini: May 21 - June 20\n",
    "\n",
    "Cancer: June 21 - July 22\n",
    "\n",
    "Leo: July 23 - August 22\n",
    "\n",
    "Virgo: August 23 - September 22\n",
    "\n",
    "Libra: September 23 - October 22\n",
    "\n",
    "Scorpio: October 23 - November 21\n",
    "\n",
    "Sagittarius: November 22 - Decemebr 21\n",
    "\n",
    "Capricorn: December 22 - January 19\n",
    "\n",
    "Aquarius: January 20 - February 18\n",
    "\n",
    "Pisces: February 19 - March 20"
   ]
  },
  {
   "cell_type": "markdown",
   "metadata": {},
   "source": [
    "The \"birthday\" column of our csv file is formatted in two different ways: either YYYY-MM-DD or MM/DD/YYYY. Therefore, we have to test each row to determine which format \"birthday\" is in. Once we determine the format, we extract the number representing the month of the birthday and add it to a new list."
   ]
  },
  {
   "cell_type": "code",
   "execution_count": 7,
   "metadata": {
    "collapsed": true
   },
   "outputs": [],
   "source": [
    "birth_months = []\n",
    "for row in legislators:\n",
    "    if re.search(\"[1][7-9][0-9]{2}\", row[2]):\n",
    "        parts = row[2].split(\"-\")\n",
    "        birth_months.append(parts[1])\n",
    "    else:\n",
    "        parts = row[2].split(\"/\")\n",
    "        birth_months.append(parts[0])"
   ]
  },
  {
   "cell_type": "markdown",
   "metadata": {},
   "source": [
    "We do the same thing for the number representing the day of the birthday."
   ]
  },
  {
   "cell_type": "code",
   "execution_count": 8,
   "metadata": {
    "collapsed": true
   },
   "outputs": [],
   "source": [
    "birth_days = []\n",
    "for row in legislators:\n",
    "    if re.search(\"[1][7-9][0-9]{2}\", row[2]):\n",
    "        parts = row[2].split(\"-\")\n",
    "        birth_days.append(parts[2])\n",
    "    else:\n",
    "        parts = row[2]\n",
    "        birth_days.append(parts)"
   ]
  },
  {
   "cell_type": "markdown",
   "metadata": {},
   "source": [
    "In order to properly work with the data, we must remove all empty strings for months and days."
   ]
  },
  {
   "cell_type": "code",
   "execution_count": 9,
   "metadata": {
    "collapsed": true
   },
   "outputs": [],
   "source": [
    "all_birth_months = []\n",
    "for month in birth_months:\n",
    "    if re.search(\"[0-1][0-9]\", month):\n",
    "        all_birth_months.append(month)"
   ]
  },
  {
   "cell_type": "code",
   "execution_count": 10,
   "metadata": {
    "collapsed": true
   },
   "outputs": [],
   "source": [
    "all_birth_days = []\n",
    "for day in birth_days:\n",
    "    if re.search(\"[0-3][0-9]\", day):\n",
    "        all_birth_days.append(day)"
   ]
  },
  {
   "cell_type": "markdown",
   "metadata": {},
   "source": [
    "Our next step is to convert the strings to integers."
   ]
  },
  {
   "cell_type": "code",
   "execution_count": 11,
   "metadata": {
    "collapsed": true
   },
   "outputs": [],
   "source": [
    "int_birth_months = []\n",
    "for month in all_birth_months:\n",
    "    month = int(month)\n",
    "    int_birth_months.append(month)"
   ]
  },
  {
   "cell_type": "code",
   "execution_count": 12,
   "metadata": {
    "collapsed": true
   },
   "outputs": [],
   "source": [
    "int_birth_days = []\n",
    "for day in all_birth_days:\n",
    "    day = int(day)\n",
    "    int_birth_days.append(day)"
   ]
  },
  {
   "cell_type": "markdown",
   "metadata": {},
   "source": [
    "We combine both lists, int_birth_months and int_birth_days, into a single list of lists. Each list represents a birthday where the first number is the month and second number is the day."
   ]
  },
  {
   "cell_type": "code",
   "execution_count": 13,
   "metadata": {
    "collapsed": true
   },
   "outputs": [],
   "source": [
    "legis_birthdays = zip(int_birth_months, int_birth_days)\n",
    "legis_birthdays = list(legis_birthdays)\n",
    "legis_birthdays = [list(item) for item in legis_birthdays]"
   ]
  },
  {
   "cell_type": "markdown",
   "metadata": {},
   "source": [
    "With our list of lists, we're finally ready to do make the data meaningful. First we set up our zodiac dictionary with the twelve signs as keys and values set to zero. Then we loop through each birthday list and parse the numbers. Depending on what the numbers are, we add one to the appropriate sign."
   ]
  },
  {
   "cell_type": "code",
   "execution_count": 14,
   "metadata": {
    "collapsed": true
   },
   "outputs": [],
   "source": [
    "zodiac = {\"Aries\": 0, \n",
    "          \"Taurus\": 0, \n",
    "          \"Gemini\": 0, \n",
    "          \"Cancer\": 0, \n",
    "          \"Leo\": 0, \n",
    "          \"Virgo\": 0, \n",
    "          \"Libra\": 0, \n",
    "          \"Scorpio\": 0, \n",
    "          \"Sagittarius\": 0,\n",
    "         \"Capricorn\": 0, \n",
    "          \"Aquarius\": 0, \n",
    "          \"Pisces\": 0}\n",
    "\n",
    "for each in legis_birthdays:\n",
    "    if each[0] == 1:\n",
    "        if each[1] <= 19:\n",
    "            zodiac[\"Capricorn\"] += 1\n",
    "        else:\n",
    "            zodiac[\"Aquarius\"] += 1\n",
    "    if each[0] == 2:\n",
    "        if each[1] <= 18:\n",
    "            zodiac[\"Aquarius\"] += 1\n",
    "        else:\n",
    "            zodiac[\"Pisces\"] +=1\n",
    "    if each[0] == 3:\n",
    "        if each[1] <= 20:\n",
    "            zodiac[\"Pisces\"] += 1\n",
    "        else:\n",
    "            zodiac[\"Aries\"] += 1\n",
    "    if each[0] == 4:\n",
    "        if each[1] <= 19:\n",
    "            zodiac[\"Aries\"] += 1\n",
    "        else:\n",
    "            zodiac[\"Taurus\"] += 1\n",
    "    if each[0] == 5:\n",
    "        if each[1] <= 20:\n",
    "            zodiac[\"Taurus\"] += 1\n",
    "        else:\n",
    "            zodiac[\"Gemini\"] += 1\n",
    "    if each[0] == 6:\n",
    "        if each[1] <= 20:\n",
    "            zodiac[\"Gemini\"] += 1\n",
    "        else:\n",
    "            zodiac[\"Cancer\"] += 1\n",
    "    if each[0] == 7:\n",
    "        if each[1] <= 22:\n",
    "            zodiac[\"Cancer\"] += 1\n",
    "        else:\n",
    "            zodiac[\"Leo\"] += 1\n",
    "    if each[0] == 8:\n",
    "        if each[1] <= 22:\n",
    "            zodiac[\"Leo\"] += 1\n",
    "        else:\n",
    "            zodiac[\"Virgo\"] += 1\n",
    "    if each[0] == 9:\n",
    "        if each[1] <= 22:\n",
    "            zodiac[\"Virgo\"] += 1\n",
    "        else:\n",
    "            zodiac[\"Libra\"] += 1\n",
    "    if each[0] == 10:\n",
    "        if each[1] <= 22:\n",
    "            zodiac[\"Libra\"] += 1\n",
    "        else:\n",
    "            zodiac[\"Scorpio\"] += 1\n",
    "    if each[0] == 11:\n",
    "        if each[1] <= 21:\n",
    "            zodiac[\"Scorpio\"] += 1\n",
    "        else:\n",
    "            zodiac[\"Sagittarius\"] += 1\n",
    "    if each[0] == 12:\n",
    "        if each[1] <= 21:\n",
    "            zodiac[\"Sagittarius\"] += 1\n",
    "        else:\n",
    "            zodiac[\"Capricorn\"] += 1"
   ]
  },
  {
   "cell_type": "markdown",
   "metadata": {
    "collapsed": true
   },
   "source": [
    "As the last step, we determine which sign is the most abundant among legislators."
   ]
  },
  {
   "cell_type": "code",
   "execution_count": 15,
   "metadata": {},
   "outputs": [
    {
     "name": "stdout",
     "output_type": "stream",
     "text": [
      "Pisces\n"
     ]
    }
   ],
   "source": [
    "top_zodiac_count = None\n",
    "for signs in zodiac:\n",
    "    count = zodiac[signs]\n",
    "    if top_zodiac_count is None or count > top_zodiac_count:\n",
    "        top_zodiac_count = count\n",
    "for sign, counts in zodiac.items():\n",
    "    if counts == top_zodiac_count:\n",
    "        top_zodiac = sign\n",
    "print(top_zodiac)"
   ]
  },
  {
   "cell_type": "markdown",
   "metadata": {},
   "source": [
    "## Most Popular Party\n",
    "\n",
    "The third and final piece of data we'll examine is the political party. We'll count them up and see which party is represented the most in history. Please note, however, that the dataset is incomplete, and several legislators, especially in the 18th Century, do not have their parties listed.\n",
    "\n",
    "First we create a list of politcal parties."
   ]
  },
  {
   "cell_type": "code",
   "execution_count": 16,
   "metadata": {
    "collapsed": true
   },
   "outputs": [],
   "source": [
    "political_parties = []\n",
    "for row in legislators:\n",
    "    party = row[6]\n",
    "    political_parties.append(party)\n",
    "political_parties = list(filter(None, political_parties))"
   ]
  },
  {
   "cell_type": "markdown",
   "metadata": {},
   "source": [
    "We count how many times each political party appears and find the most popular one."
   ]
  },
  {
   "cell_type": "code",
   "execution_count": 17,
   "metadata": {},
   "outputs": [
    {
     "name": "stdout",
     "output_type": "stream",
     "text": [
      "Democrat\n"
     ]
    }
   ],
   "source": [
    "pol_party = {}\n",
    "for party in political_parties:\n",
    "    if party in pol_party:\n",
    "        pol_party[party] += 1\n",
    "    else:\n",
    "        pol_party[party] = 1\n",
    "\n",
    "top_party_count = None\n",
    "for party in pol_party:\n",
    "    count = pol_party[party]\n",
    "    if top_party_count is None or count > top_party_count:\n",
    "        top_party_count = count\n",
    "        \n",
    "for party, counts in pol_party.items():\n",
    "    if counts == top_party_count:\n",
    "        top_party = party\n",
    "print(top_party)"
   ]
  }
 ],
 "metadata": {
  "kernelspec": {
   "display_name": "Python 3",
   "language": "python",
   "name": "python3"
  },
  "language_info": {
   "codemirror_mode": {
    "name": "ipython",
    "version": 3
   },
   "file_extension": ".py",
   "mimetype": "text/x-python",
   "name": "python",
   "nbconvert_exporter": "python",
   "pygments_lexer": "ipython3",
   "version": "3.6.1"
  }
 },
 "nbformat": 4,
 "nbformat_minor": 2
}
