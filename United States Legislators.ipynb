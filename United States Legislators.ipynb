{
 "cells": [
  {
   "cell_type": "markdown",
   "metadata": {},
   "source": [
    "# United States Legislators\n",
    "\n",
    "In the following report, we'll examine data on every legislator who has served in the history of the United States. The data set has been saved in a csv file and contains the following columns of information:\n",
    "\n",
    "last_name: the surname of the legislator\n",
    "\n",
    "first_name: the given name of the legislator\n",
    "\n",
    "birthday: the birthdate of the legislator\n",
    "\n",
    "gender: the gender of the legislator\n",
    "\n",
    "type: whether the legislator served in the Senate or the House of Representatives\n",
    "\n",
    "state: the state the legislator represented\n",
    "\n",
    "party: the party the legislator belonged to"
   ]
  },
  {
   "cell_type": "markdown",
   "metadata": {},
   "source": [
    "The first thing we'll do is open the csv file and read it into Python so that we can use the data."
   ]
  },
  {
   "cell_type": "code",
   "execution_count": 1,
   "metadata": {},
   "outputs": [
    {
     "name": "stdout",
     "output_type": "stream",
     "text": [
      "last_name first_name birthday gender type state party\n",
      "Bassett Richard 1745-04-02 M sen DE Anti-Administration\n",
      "Bland Theodorick 1742-03-21  rep VA \n",
      "Burke Aedanus 1743-06-16  rep SC \n",
      "Carroll Daniel 1730-07-22 M rep MD \n"
     ]
    }
   ],
   "source": [
    "import csv, re\n",
    "f = open(\"legislators.csv\", \"r\")\n",
    "legislators = list(csv.reader(f))\n",
    "for each in legislators[0:5]:\n",
    "    print(*each)"
   ]
  },
  {
   "cell_type": "markdown",
   "metadata": {},
   "source": [
    "Next we'll remove the header row so that we'll manipulate only the data."
   ]
  },
  {
   "cell_type": "code",
   "execution_count": 2,
   "metadata": {},
   "outputs": [
    {
     "name": "stdout",
     "output_type": "stream",
     "text": [
      "Bassett Richard 1745-04-02 M sen DE Anti-Administration\n",
      "Bland Theodorick 1742-03-21  rep VA \n",
      "Burke Aedanus 1743-06-16  rep SC \n",
      "Carroll Daniel 1730-07-22 M rep MD \n",
      "Clymer George 1739-03-16 M rep PA \n"
     ]
    }
   ],
   "source": [
    "legislators = legislators[1:]\n",
    "for each in legislators[0:5]:\n",
    "    print(*each)"
   ]
  },
  {
   "cell_type": "markdown",
   "metadata": {},
   "source": [
    "## Most Popular Name\n",
    "\n",
    "Now that we can easily use the data, let's start to explore it. We'll write code that extrapolates the most popular given name for male legislators and female legislators.\n",
    "\n",
    "First, the male legislators:\n",
    "\n",
    "We'll loop through the rows of the data set, count how many times a first name appears, and add the names with their counts to a dictionary, but only if the gender is male."
   ]
  },
  {
   "cell_type": "code",
   "execution_count": 3,
   "metadata": {},
   "outputs": [
    {
     "name": "stdout",
     "output_type": "stream",
     "text": [
      "Richard: 155\n",
      "Daniel: 119\n",
      "George: 416\n",
      "Benjamin: 114\n",
      "Jonathan: 38\n",
      "William: 1020\n",
      "Ralph: 29\n",
      "Samuel: 253\n",
      "Robert: 315\n",
      "Michael: 60\n",
      "Jeremiah: 30\n",
      "Henry: 261\n",
      "John: 1233\n",
      "Aaron: 21\n",
      "Charles: 436\n",
      "Oliver: 16\n",
      "Philip: 40\n",
      "Moses: 21\n",
      "Cornelius: 13\n",
      "Joshua: 28\n",
      "Roger: 13\n",
      "Peter: 60\n",
      "Thomas: 448\n",
      "Anthony: 22\n",
      "Alexander: 73\n",
      "Hugh: 27\n",
      "James: 710\n",
      "Abraham: 29\n",
      "David: 168\n",
      "Frederick: 64\n",
      "Joseph: 295\n",
      "Stephen: 54\n",
      "Nathaniel: 37\n",
      "Andrew: 73\n",
      "Timothy: 24\n",
      "Isaac: 65\n",
      "Christopher: 24\n",
      "Elijah: 18\n",
      "Jacob: 71\n",
      "Josiah: 24\n",
      "Nathan: 33\n",
      "Theodore: 29\n",
      "Matthew: 17\n",
      "Mark: 24\n",
      "Franklin: 22\n",
      "Albert: 78\n",
      "Paul: 43\n",
      "Archibald: 23\n",
      "Ebenezer: 21\n",
      "Lewis: 44\n",
      "Walter: 72\n",
      "Leonard: 15\n",
      "Patrick: 30\n",
      "Martin: 43\n",
      "Reuben: 12\n",
      "Edward: 191\n",
      "Stanley: 10\n",
      "Herman: 17\n",
      "Adam: 13\n",
      "Nicholas: 18\n",
      "Edwin: 53\n",
      "Joel: 21\n",
      "Rufus: 17\n",
      "Luther: 13\n",
      "Solomon: 17\n",
      "Alfred: 44\n",
      "Arthur: 41\n",
      "Louis: 27\n",
      "Edmund: 23\n",
      "Harry: 54\n",
      "Dudley: 13\n",
      "Edgar: 13\n",
      "Warren: 17\n",
      "Augustus: 27\n",
      "Kenneth: 14\n",
      "Milton: 19\n",
      "Chester: 19\n",
      "Lawrence: 24\n",
      "Oscar: 19\n",
      "Guy: 14\n",
      "Homer: 15\n",
      "Donald: 34\n",
      "Eugene: 19\n",
      "Carl: 20\n",
      "Frank: 118\n",
      "Fred: 26\n",
      "Howard: 22\n",
      "Victor: 13\n",
      "Ernest: 19\n",
      "Herbert: 21\n",
      "Raymond: 14\n",
      "Earl: 14\n",
      "Harold: 31\n",
      "Rod: 2\n",
      "Connie: 2\n",
      "Phil: 2\n",
      "Tim: 3\n",
      "Carlos: 1\n",
      "J.: 2\n",
      "Bill: 4\n",
      "Tom: 4\n",
      "Ben: 4\n",
      "Jay: 2\n",
      "Julian: 1\n",
      "Bob: 10\n",
      "Rick: 4\n",
      "Ron: 4\n",
      "Steven: 3\n",
      "Don: 1\n",
      "Bruce: 1\n",
      "Zell: 1\n",
      "Ken: 2\n",
      "Conrad: 1\n",
      "Lincoln: 3\n",
      "Gary: 2\n",
      "Jon: 3\n",
      "Greg: 1\n",
      "Tony: 1\n",
      "Brian: 3\n",
      "Steve: 4\n",
      "Dan: 3\n",
      "Joe: 4\n",
      "Elmer: 1\n",
      "Norman: 2\n",
      "Dean: 1\n",
      "AnÃ­bal: 1\n",
      "Wayne: 2\n",
      "Cass: 1\n",
      "Chris: 2\n",
      "Douglas: 1\n",
      "Max: 3\n",
      "Brad: 2\n",
      "Norm: 1\n",
      "Larry: 3\n",
      "Pete: 1\n",
      "Calvin: 1\n",
      "Jonas: 1\n",
      "Porter: 1\n",
      "Amory: 1\n",
      "Gerald: 2\n",
      "Scott: 3\n",
      "Doug: 1\n",
      "Jack: 1\n",
      "Gordon: 1\n",
      "Nick: 1\n",
      "Ted: 2\n",
      "Evan: 1\n",
      "Sherwood: 1\n",
      "Jeb: 1\n",
      "Jim: 4\n",
      "Ed: 1\n",
      "C.: 2\n",
      "Randall: 1\n",
      "Byron: 1\n",
      "Lane: 1\n",
      "Russell: 1\n",
      "Judd: 1\n",
      "Gilbert: 1\n",
      "Mel: 1\n",
      "C.L.: 1\n",
      "Major: 1\n",
      "E.: 1\n",
      "Arlen: 1\n",
      "W.: 2\n",
      "Rahm: 1\n",
      "Terry: 1\n",
      "Luis: 1\n",
      "Vito: 1\n",
      "Virgil: 1\n",
      "Robin: 1\n",
      "Kenny: 1\n",
      "Duncan: 1\n",
      "Bobby: 2\n",
      "Ric: 1\n",
      "Ray: 1\n",
      "Trent: 1\n",
      "H.: 1\n",
      "Craig: 1\n",
      "Neil: 1\n",
      "Allen: 2\n",
      "Anh: 1\n",
      "Travis: 1\n",
      "Artur: 1\n",
      "Vernon: 1\n",
      "Barton: 1\n",
      "Parker: 1\n",
      "Baron: 1\n",
      "Eric: 2\n",
      "Kendrick: 1\n",
      "Alan: 1\n",
      "Dennis: 4\n",
      "Glenn: 1\n",
      "Ciro: 1\n",
      "Ike: 1\n",
      "Zachary: 1\n",
      "Bart: 1\n",
      "Gene: 1\n",
      "Todd: 2\n",
      "Zach: 1\n",
      "Roland: 1\n",
      "Carte: 1\n",
      "Geoff: 1\n",
      "Thaddeus: 1\n",
      "Jesse: 1\n",
      "Barack: 1\n",
      "Jeff: 2\n",
      "Kent: 1\n",
      "Jason: 1\n",
      "Roscoe: 1\n",
      "Francisco: 1\n",
      "Russ: 1\n",
      "Hansen: 1\n",
      "Jerry: 2\n",
      "Chip: 1\n",
      "Barney: 1\n",
      "Elton: 1\n",
      "Maurice: 1\n",
      "Dale: 1\n",
      "R.: 1\n",
      "Ronald: 1\n",
      "Mike: 2\n",
      "Silvestre: 1\n",
      "Heath: 1\n",
      "Fortney: 1\n",
      "Clifford: 1\n",
      "Edolphus: 1\n",
      "Jo: 1\n",
      "Rodney: 1\n",
      "Jeffrey: 1\n",
      "Melvin: 1\n",
      "Trey: 1\n"
     ]
    }
   ],
   "source": [
    "male_names = {}\n",
    "for row in legislators:\n",
    "    if row[3] == \"M\":\n",
    "        name = row[1]\n",
    "        if name in male_names:\n",
    "            male_names[name] += 1\n",
    "        else:\n",
    "            male_names[name] = 1\n",
    "print(\"\\n\".join(\"{}: {}\".format(k, v) for k, v in male_names.items()))"
   ]
  },
  {
   "cell_type": "markdown",
   "metadata": {},
   "source": [
    "Our dictionary has all the first names and the number  of legislators with that name. The next step is to find out which count is the highest."
   ]
  },
  {
   "cell_type": "code",
   "execution_count": 4,
   "metadata": {
    "collapsed": true
   },
   "outputs": [],
   "source": [
    "highest_male_value = None\n",
    "for name in male_names:\n",
    "    count = male_names[name]\n",
    "    if highest_male_value is None or count > highest_male_value:\n",
    "        highest_male_value = count"
   ]
  },
  {
   "cell_type": "markdown",
   "metadata": {},
   "source": [
    "Finally, we want to add every name with the value of highest_male_value to a list. When we print this list, we will see which name(s) is the most popular for male legislators."
   ]
  },
  {
   "cell_type": "code",
   "execution_count": 5,
   "metadata": {},
   "outputs": [
    {
     "name": "stdout",
     "output_type": "stream",
     "text": [
      "John\n",
      "1233\n"
     ]
    }
   ],
   "source": [
    "top_male_names = []\n",
    "for name, counts in male_names.items():\n",
    "    if counts == highest_male_value:\n",
    "        top_male_names.append(name)\n",
    "        \n",
    "print(\"\\n\".join(top_male_names))\n",
    "print(highest_male_value)"
   ]
  },
  {
   "cell_type": "markdown",
   "metadata": {
    "collapsed": true
   },
   "source": [
    "We can use the same logic to find the most popular female names:"
   ]
  },
  {
   "cell_type": "code",
   "execution_count": 6,
   "metadata": {},
   "outputs": [
    {
     "name": "stdout",
     "output_type": "stream",
     "text": [
      "Marilyn: 2\n",
      "Enid: 1\n",
      "Helen: 1\n",
      "Eva: 1\n",
      "Carrie: 1\n",
      "Patsy: 1\n",
      "Constance: 1\n",
      "Lynn: 2\n",
      "Marge: 1\n",
      "Karen: 2\n",
      "Elizabeth: 1\n",
      "Jennifer: 1\n",
      "Denise: 1\n",
      "Katherine: 1\n",
      "Melissa: 2\n",
      "Nancy: 2\n",
      "Sue: 2\n",
      "Blanche: 1\n",
      "Cynthia: 1\n",
      "Anne: 1\n",
      "Shelley: 2\n",
      "Julia: 1\n",
      "Hillary: 1\n",
      "Barbara: 1\n",
      "Jo Ann: 2\n",
      "Thelma: 1\n",
      "Darlene: 1\n",
      "Stephanie: 2\n",
      "Juanita: 1\n",
      "Deborah: 2\n",
      "Heather: 1\n",
      "Virginia: 1\n",
      "Kathleen: 2\n",
      "Mary: 2\n",
      "Carolyn: 1\n",
      "Mary Jo: 1\n",
      "Suzanne: 1\n",
      "Betsy: 1\n",
      "Hilda: 1\n",
      "Ellen: 1\n",
      "Diane: 1\n",
      "Gabrielle: 1\n",
      "Jane: 1\n",
      "Kay: 1\n",
      "Olympia: 1\n",
      "Sandy: 1\n",
      "Judy: 1\n",
      "Ann Marie: 1\n",
      "Nan: 1\n",
      "Laura: 1\n",
      "Jean: 1\n",
      "Betty: 1\n"
     ]
    }
   ],
   "source": [
    "top_female_names = []\n",
    "female_names = {}\n",
    "for row in legislators:\n",
    "    if row[3] == \"F\":\n",
    "        name = row[1]\n",
    "        if name in female_names:\n",
    "            female_names[name] += 1\n",
    "        else:\n",
    "            female_names[name] = 1\n",
    "print(\"\\n\".join(\"{}: {}\".format(k, v) for k, v in female_names.items()))"
   ]
  },
  {
   "cell_type": "code",
   "execution_count": 7,
   "metadata": {},
   "outputs": [
    {
     "name": "stdout",
     "output_type": "stream",
     "text": [
      "Marilyn\n",
      "Lynn\n",
      "Karen\n",
      "Melissa\n",
      "Nancy\n",
      "Sue\n",
      "Shelley\n",
      "Jo Ann\n",
      "Stephanie\n",
      "Deborah\n",
      "Kathleen\n",
      "Mary\n",
      "2\n"
     ]
    }
   ],
   "source": [
    "highest_female_value = None\n",
    "for name in female_names:\n",
    "    count = female_names[name]\n",
    "    if highest_female_value is None or count > highest_female_value:\n",
    "        highest_female_value = count\n",
    "        \n",
    "for name, counts in female_names.items():\n",
    "    if counts == highest_female_value:\n",
    "        top_female_names.append(name)\n",
    "        \n",
    "print(\"\\n\".join(top_female_names))\n",
    "print(highest_female_value)"
   ]
  },
  {
   "cell_type": "markdown",
   "metadata": {},
   "source": [
    "## Most Popular Zodiac Sign\n",
    "\n",
    "In this portion we will examine birthdays to determine which zodiac sign is the most popular for United States legislators. Here is a rundown on where the dates break:\n",
    "\n",
    "Aries: March 21 - April 19\n",
    "\n",
    "Taurus:April 20 - May 20\n",
    "\n",
    "Gemini: May 21 - June 20\n",
    "\n",
    "Cancer: June 21 - July 22\n",
    "\n",
    "Leo: July 23 - August 22\n",
    "\n",
    "Virgo: August 23 - September 22\n",
    "\n",
    "Libra: September 23 - October 22\n",
    "\n",
    "Scorpio: October 23 - November 21\n",
    "\n",
    "Sagittarius: November 22 - Decemebr 21\n",
    "\n",
    "Capricorn: December 22 - January 19\n",
    "\n",
    "Aquarius: January 20 - February 18\n",
    "\n",
    "Pisces: February 19 - March 20"
   ]
  },
  {
   "cell_type": "markdown",
   "metadata": {},
   "source": [
    "The \"birthday\" column of our csv file is formatted in two different ways: either YYYY-MM-DD or MM/DD/YYYY. Therefore, we have to test each row to determine which format \"birthday\" is in. Once we determine the format, we extract the number representing the month of the birthday and add it to a new list."
   ]
  },
  {
   "cell_type": "code",
   "execution_count": 8,
   "metadata": {
    "collapsed": true
   },
   "outputs": [],
   "source": [
    "birth_months = []\n",
    "for row in legislators:\n",
    "    if re.search(\"[1][7-9][0-9]{2}\", row[2]):\n",
    "        parts = row[2].split(\"-\")\n",
    "        birth_months.append(parts[1])\n",
    "    else:\n",
    "        parts = row[2].split(\"/\")\n",
    "        birth_months.append(parts[0])"
   ]
  },
  {
   "cell_type": "markdown",
   "metadata": {},
   "source": [
    "We do the same thing for the number representing the day of the birthday."
   ]
  },
  {
   "cell_type": "code",
   "execution_count": 9,
   "metadata": {
    "collapsed": true
   },
   "outputs": [],
   "source": [
    "birth_days = []\n",
    "for row in legislators:\n",
    "    if re.search(\"[1][7-9][0-9]{2}\", row[2]):\n",
    "        parts = row[2].split(\"-\")\n",
    "        birth_days.append(parts[2])\n",
    "    else:\n",
    "        parts = row[2]\n",
    "        birth_days.append(parts)"
   ]
  },
  {
   "cell_type": "markdown",
   "metadata": {},
   "source": [
    "In order to properly work with the data, we must remove all empty strings for months and days."
   ]
  },
  {
   "cell_type": "code",
   "execution_count": 10,
   "metadata": {
    "collapsed": true
   },
   "outputs": [],
   "source": [
    "all_birth_months = []\n",
    "for month in birth_months:\n",
    "    if re.search(\"[0-1][0-9]\", month):\n",
    "        all_birth_months.append(month)"
   ]
  },
  {
   "cell_type": "code",
   "execution_count": 11,
   "metadata": {
    "collapsed": true
   },
   "outputs": [],
   "source": [
    "all_birth_days = []\n",
    "for day in birth_days:\n",
    "    if re.search(\"[0-3][0-9]\", day):\n",
    "        all_birth_days.append(day)"
   ]
  },
  {
   "cell_type": "markdown",
   "metadata": {},
   "source": [
    "Our next step is to convert the strings to integers."
   ]
  },
  {
   "cell_type": "code",
   "execution_count": 12,
   "metadata": {
    "collapsed": true
   },
   "outputs": [],
   "source": [
    "int_birth_months = []\n",
    "for month in all_birth_months:\n",
    "    month = int(month)\n",
    "    int_birth_months.append(month)"
   ]
  },
  {
   "cell_type": "code",
   "execution_count": 13,
   "metadata": {
    "collapsed": true
   },
   "outputs": [],
   "source": [
    "int_birth_days = []\n",
    "for day in all_birth_days:\n",
    "    day = int(day)\n",
    "    int_birth_days.append(day)"
   ]
  },
  {
   "cell_type": "markdown",
   "metadata": {},
   "source": [
    "We combine both lists, int_birth_months and int_birth_days, into a single list of lists. Each list represents a birthday where the first number is the month and second number is the day."
   ]
  },
  {
   "cell_type": "code",
   "execution_count": 14,
   "metadata": {
    "collapsed": true
   },
   "outputs": [],
   "source": [
    "legis_birthdays = zip(int_birth_months, int_birth_days)\n",
    "legis_birthdays = list(legis_birthdays)\n",
    "legis_birthdays = [list(item) for item in legis_birthdays]"
   ]
  },
  {
   "cell_type": "markdown",
   "metadata": {},
   "source": [
    "With our list of lists, we're finally ready to do make the data meaningful. First we set up our zodiac dictionary with the twelve signs as keys and values set to zero. Then we loop through each birthday list and parse the numbers. Depending on what the numbers are, we add one to the appropriate sign."
   ]
  },
  {
   "cell_type": "code",
   "execution_count": 15,
   "metadata": {},
   "outputs": [
    {
     "name": "stdout",
     "output_type": "stream",
     "text": [
      "Aries: 930\n",
      "Taurus: 872\n",
      "Gemini: 843\n",
      "Cancer: 871\n",
      "Leo: 923\n",
      "Virgo: 998\n",
      "Libra: 955\n",
      "Scorpio: 910\n",
      "Sagittarius: 936\n",
      "Capricorn: 951\n",
      "Aquarius: 971\n",
      "Pisces: 1026\n"
     ]
    }
   ],
   "source": [
    "zodiac = {\"Aries\": 0, \n",
    "          \"Taurus\": 0, \n",
    "          \"Gemini\": 0, \n",
    "          \"Cancer\": 0, \n",
    "          \"Leo\": 0, \n",
    "          \"Virgo\": 0, \n",
    "          \"Libra\": 0, \n",
    "          \"Scorpio\": 0, \n",
    "          \"Sagittarius\": 0,\n",
    "         \"Capricorn\": 0, \n",
    "          \"Aquarius\": 0, \n",
    "          \"Pisces\": 0}\n",
    "\n",
    "for each in legis_birthdays:\n",
    "    if each[0] == 1:\n",
    "        if each[1] <= 19:\n",
    "            zodiac[\"Capricorn\"] += 1\n",
    "        else:\n",
    "            zodiac[\"Aquarius\"] += 1\n",
    "    if each[0] == 2:\n",
    "        if each[1] <= 18:\n",
    "            zodiac[\"Aquarius\"] += 1\n",
    "        else:\n",
    "            zodiac[\"Pisces\"] +=1\n",
    "    if each[0] == 3:\n",
    "        if each[1] <= 20:\n",
    "            zodiac[\"Pisces\"] += 1\n",
    "        else:\n",
    "            zodiac[\"Aries\"] += 1\n",
    "    if each[0] == 4:\n",
    "        if each[1] <= 19:\n",
    "            zodiac[\"Aries\"] += 1\n",
    "        else:\n",
    "            zodiac[\"Taurus\"] += 1\n",
    "    if each[0] == 5:\n",
    "        if each[1] <= 20:\n",
    "            zodiac[\"Taurus\"] += 1\n",
    "        else:\n",
    "            zodiac[\"Gemini\"] += 1\n",
    "    if each[0] == 6:\n",
    "        if each[1] <= 20:\n",
    "            zodiac[\"Gemini\"] += 1\n",
    "        else:\n",
    "            zodiac[\"Cancer\"] += 1\n",
    "    if each[0] == 7:\n",
    "        if each[1] <= 22:\n",
    "            zodiac[\"Cancer\"] += 1\n",
    "        else:\n",
    "            zodiac[\"Leo\"] += 1\n",
    "    if each[0] == 8:\n",
    "        if each[1] <= 22:\n",
    "            zodiac[\"Leo\"] += 1\n",
    "        else:\n",
    "            zodiac[\"Virgo\"] += 1\n",
    "    if each[0] == 9:\n",
    "        if each[1] <= 22:\n",
    "            zodiac[\"Virgo\"] += 1\n",
    "        else:\n",
    "            zodiac[\"Libra\"] += 1\n",
    "    if each[0] == 10:\n",
    "        if each[1] <= 22:\n",
    "            zodiac[\"Libra\"] += 1\n",
    "        else:\n",
    "            zodiac[\"Scorpio\"] += 1\n",
    "    if each[0] == 11:\n",
    "        if each[1] <= 21:\n",
    "            zodiac[\"Scorpio\"] += 1\n",
    "        else:\n",
    "            zodiac[\"Sagittarius\"] += 1\n",
    "    if each[0] == 12:\n",
    "        if each[1] <= 21:\n",
    "            zodiac[\"Sagittarius\"] += 1\n",
    "        else:\n",
    "            zodiac[\"Capricorn\"] += 1\n",
    "print(\"\\n\".join(\"{}: {}\".format(k, v) for k, v in zodiac.items()))"
   ]
  },
  {
   "cell_type": "markdown",
   "metadata": {
    "collapsed": true
   },
   "source": [
    "As the last step, we determine which sign is the most abundant among legislators."
   ]
  },
  {
   "cell_type": "code",
   "execution_count": 16,
   "metadata": {},
   "outputs": [
    {
     "name": "stdout",
     "output_type": "stream",
     "text": [
      "Pisces\n"
     ]
    }
   ],
   "source": [
    "top_zodiac_count = None\n",
    "for signs in zodiac:\n",
    "    count = zodiac[signs]\n",
    "    if top_zodiac_count is None or count > top_zodiac_count:\n",
    "        top_zodiac_count = count\n",
    "for sign, counts in zodiac.items():\n",
    "    if counts == top_zodiac_count:\n",
    "        top_zodiac = sign\n",
    "print(top_zodiac)"
   ]
  },
  {
   "cell_type": "markdown",
   "metadata": {},
   "source": [
    "## Most Popular Party\n",
    "\n",
    "The third and final piece of data we'll examine is the political party. We'll count them up and see which party is represented the most in history. Please note, however, that the data set is incomplete, and several legislators, especially in the 18th Century, do not have their parties listed.\n",
    "\n",
    "First we create a list of political parties."
   ]
  },
  {
   "cell_type": "code",
   "execution_count": 17,
   "metadata": {
    "collapsed": true
   },
   "outputs": [],
   "source": [
    "political_parties = []\n",
    "for row in legislators:\n",
    "    party = row[6]\n",
    "    political_parties.append(party)\n",
    "political_parties = list(filter(None, political_parties))"
   ]
  },
  {
   "cell_type": "markdown",
   "metadata": {},
   "source": [
    "We count how many times each political party appears and find the most popular one."
   ]
  },
  {
   "cell_type": "code",
   "execution_count": 18,
   "metadata": {},
   "outputs": [
    {
     "name": "stdout",
     "output_type": "stream",
     "text": [
      "Democrat\n",
      "4920\n"
     ]
    }
   ],
   "source": [
    "pol_party = {}\n",
    "for party in political_parties:\n",
    "    if party in pol_party:\n",
    "        pol_party[party] += 1\n",
    "    else:\n",
    "        pol_party[party] = 1\n",
    "\n",
    "top_party_count = None\n",
    "for party in pol_party:\n",
    "    count = pol_party[party]\n",
    "    if top_party_count is None or count > top_party_count:\n",
    "        top_party_count = count\n",
    "        \n",
    "for party, counts in pol_party.items():\n",
    "    if counts == top_party_count:\n",
    "        top_party = party\n",
    "print(top_party)\n",
    "print(top_party_count)"
   ]
  }
 ],
 "metadata": {
  "kernelspec": {
   "display_name": "Python 3",
   "language": "python",
   "name": "python3"
  },
  "language_info": {
   "codemirror_mode": {
    "name": "ipython",
    "version": 3
   },
   "file_extension": ".py",
   "mimetype": "text/x-python",
   "name": "python",
   "nbconvert_exporter": "python",
   "pygments_lexer": "ipython3",
   "version": "3.6.1"
  }
 },
 "nbformat": 4,
 "nbformat_minor": 2
}
